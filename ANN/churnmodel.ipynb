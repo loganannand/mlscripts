{
 "cells": [
  {
   "cell_type": "code",
   "execution_count": 57,
   "metadata": {},
   "outputs": [],
   "source": [
    "import pandas as pd \n",
    "import numpy as np\n",
    "import tensorflow as tf\n",
    "from sklearn.preprocessing import OneHotEncoder\n",
    "from sklearn.compose import ColumnTransformer\n",
    "from sklearn.preprocessing import LabelEncoder\n",
    "from sklearn.model_selection import train_test_split\n",
    "from sklearn.preprocessing import StandardScaler\n",
    "from sklearn.metrics import accuracy_score, confusion_matrix"
   ]
  },
  {
   "cell_type": "code",
   "execution_count": 4,
   "metadata": {},
   "outputs": [
    {
     "data": {
      "text/plain": [
       "'2.13.0'"
      ]
     },
     "execution_count": 4,
     "metadata": {},
     "output_type": "execute_result"
    }
   ],
   "source": [
    "tf.__version__"
   ]
  },
  {
   "cell_type": "markdown",
   "metadata": {},
   "source": [
    "Churn model with ANN"
   ]
  },
  {
   "cell_type": "markdown",
   "metadata": {},
   "source": [
    "# Data Preprocessing"
   ]
  },
  {
   "cell_type": "code",
   "execution_count": 33,
   "metadata": {},
   "outputs": [],
   "source": [
    "dataset = pd.read_csv(\"Churn_Modelling.csv\")\n"
   ]
  },
  {
   "cell_type": "code",
   "execution_count": 34,
   "metadata": {},
   "outputs": [],
   "source": [
    "X = dataset.iloc[:, 3:-1].values\n",
    "y = dataset.iloc[:, -1].values"
   ]
  },
  {
   "cell_type": "code",
   "execution_count": 39,
   "metadata": {},
   "outputs": [
    {
     "name": "stdout",
     "output_type": "stream",
     "text": [
      "[[1.0 0.0 0.0 ... 1 1 101348.88]\n",
      " [0.0 0.0 1.0 ... 0 1 112542.58]\n",
      " [1.0 0.0 0.0 ... 1 0 113931.57]\n",
      " ...\n",
      " [1.0 0.0 0.0 ... 0 1 42085.58]\n",
      " [0.0 1.0 0.0 ... 1 0 92888.52]\n",
      " [1.0 0.0 0.0 ... 1 0 38190.78]]\n"
     ]
    }
   ],
   "source": [
    "print(X)"
   ]
  },
  {
   "cell_type": "code",
   "execution_count": 36,
   "metadata": {},
   "outputs": [],
   "source": [
    "# Use LabelEncoder to encode \"Male\"/\"Female\" into binary 1/0\n",
    "le = LabelEncoder()\n",
    "X[:, 2] = le.fit_transform(X[:, 2])"
   ]
  },
  {
   "cell_type": "code",
   "execution_count": 38,
   "metadata": {},
   "outputs": [],
   "source": [
    "# Use OneHotEncoding to encode \"Geography\" field of the data\n",
    "ct = ColumnTransformer(transformers=[('encoder', OneHotEncoder(), [1])], remainder='passthrough')\n",
    "X = np.array(ct.fit_transform(X))\n",
    "# Note: dummy vars are moved to the first cols of the matrix of features. "
   ]
  },
  {
   "cell_type": "code",
   "execution_count": 41,
   "metadata": {},
   "outputs": [],
   "source": [
    "# Split data into training and test sets\n",
    "X_train, X_test, y_train, y_test = train_test_split(X, y, test_size=0.2, random_state=0)"
   ]
  },
  {
   "cell_type": "markdown",
   "metadata": {},
   "source": [
    "Feature scaling is fundamental and essentially compulsory for all deep learning, so much so that you do it to all fields in your data"
   ]
  },
  {
   "cell_type": "code",
   "execution_count": 43,
   "metadata": {},
   "outputs": [],
   "source": [
    "# Feature scaling for DL\n",
    "sc = StandardScaler()\n",
    "X_train = sc.fit_transform(X_train) # apply to all features of both sets \n",
    "X_test = sc.fit_transform(X_test)"
   ]
  },
  {
   "cell_type": "markdown",
   "metadata": {},
   "source": [
    "# Building and training an ANN"
   ]
  },
  {
   "cell_type": "code",
   "execution_count": 44,
   "metadata": {},
   "outputs": [],
   "source": [
    "ann = tf.keras.models.Sequential() # create an instances of the sequential() class"
   ]
  },
  {
   "cell_type": "code",
   "execution_count": 45,
   "metadata": {},
   "outputs": [],
   "source": [
    "ann.add(tf.keras.layers.Dense(units=6, activation='relu')) # add a fully connected layer with dense() class, the hidden layer\n",
    "# Number of neurons is a \"hyperparameter\", i.e., it wont be 'trained' in the training process"
   ]
  },
  {
   "cell_type": "code",
   "execution_count": 46,
   "metadata": {},
   "outputs": [],
   "source": [
    "# add a second hidden layer\n",
    "ann.add(tf.keras.layers.Dense(units=6, activation='relu'))"
   ]
  },
  {
   "cell_type": "code",
   "execution_count": 47,
   "metadata": {},
   "outputs": [],
   "source": [
    "# add an output layer \n",
    "ann.add(tf.keras.layers.Dense(units=1, activation='sigmoid')) # sigmoid gives the probability the customer churns as well as the classification"
   ]
  },
  {
   "cell_type": "code",
   "execution_count": 48,
   "metadata": {},
   "outputs": [],
   "source": [
    "# Compiling the ANN with optimizer, loss funciton and metric, which will be the accuracy\n",
    "ann.compile(optimizer='adam' , loss='binary_crossentropy', metrics=['accuracy']) # adam is a variant of stochastic gradient descent (SGD)\n",
    "# loss function must be \"binary_crossentropy\" whenever you do classification problems. For non-binary output you would use \"categorical_crossentropy\""
   ]
  },
  {
   "cell_type": "code",
   "execution_count": 50,
   "metadata": {},
   "outputs": [
    {
     "name": "stdout",
     "output_type": "stream",
     "text": [
      "Epoch 1/200\n",
      "250/250 [==============================] - 0s 1ms/step - loss: 0.3385 - accuracy: 0.8614\n",
      "Epoch 2/200\n",
      "250/250 [==============================] - 0s 1ms/step - loss: 0.3389 - accuracy: 0.8618\n",
      "Epoch 3/200\n",
      "250/250 [==============================] - 0s 1ms/step - loss: 0.3384 - accuracy: 0.8625\n",
      "Epoch 4/200\n",
      "250/250 [==============================] - 0s 1ms/step - loss: 0.3383 - accuracy: 0.8587\n",
      "Epoch 5/200\n",
      "250/250 [==============================] - 0s 1ms/step - loss: 0.3384 - accuracy: 0.8637\n",
      "Epoch 6/200\n",
      "250/250 [==============================] - 0s 1ms/step - loss: 0.3381 - accuracy: 0.8626\n",
      "Epoch 7/200\n",
      "250/250 [==============================] - 0s 1ms/step - loss: 0.3382 - accuracy: 0.8611\n",
      "Epoch 8/200\n",
      "250/250 [==============================] - 0s 1ms/step - loss: 0.3383 - accuracy: 0.8611\n",
      "Epoch 9/200\n",
      "250/250 [==============================] - 0s 1ms/step - loss: 0.3381 - accuracy: 0.8610\n",
      "Epoch 10/200\n",
      "250/250 [==============================] - 0s 1ms/step - loss: 0.3384 - accuracy: 0.8611\n",
      "Epoch 11/200\n",
      "250/250 [==============================] - 0s 1ms/step - loss: 0.3378 - accuracy: 0.8605\n",
      "Epoch 12/200\n",
      "250/250 [==============================] - 0s 1ms/step - loss: 0.3376 - accuracy: 0.8609\n",
      "Epoch 13/200\n",
      "250/250 [==============================] - 0s 1ms/step - loss: 0.3378 - accuracy: 0.8615\n",
      "Epoch 14/200\n",
      "250/250 [==============================] - 0s 1ms/step - loss: 0.3381 - accuracy: 0.8604\n",
      "Epoch 15/200\n",
      "250/250 [==============================] - 0s 1ms/step - loss: 0.3380 - accuracy: 0.8610\n",
      "Epoch 16/200\n",
      "250/250 [==============================] - 0s 1ms/step - loss: 0.3377 - accuracy: 0.8612\n",
      "Epoch 17/200\n",
      "250/250 [==============================] - 0s 1ms/step - loss: 0.3374 - accuracy: 0.8610\n",
      "Epoch 18/200\n",
      "250/250 [==============================] - 0s 1ms/step - loss: 0.3374 - accuracy: 0.8624\n",
      "Epoch 19/200\n",
      "250/250 [==============================] - 0s 1ms/step - loss: 0.3375 - accuracy: 0.8618\n",
      "Epoch 20/200\n",
      "250/250 [==============================] - 0s 1ms/step - loss: 0.3369 - accuracy: 0.8631\n",
      "Epoch 21/200\n",
      "250/250 [==============================] - 0s 1ms/step - loss: 0.3373 - accuracy: 0.8600\n",
      "Epoch 22/200\n",
      "250/250 [==============================] - 0s 1ms/step - loss: 0.3375 - accuracy: 0.8627\n",
      "Epoch 23/200\n",
      "250/250 [==============================] - 0s 1ms/step - loss: 0.3371 - accuracy: 0.8627\n",
      "Epoch 24/200\n",
      "250/250 [==============================] - 0s 1ms/step - loss: 0.3374 - accuracy: 0.8636\n",
      "Epoch 25/200\n",
      "250/250 [==============================] - 0s 1ms/step - loss: 0.3370 - accuracy: 0.8631\n",
      "Epoch 26/200\n",
      "250/250 [==============================] - 0s 1ms/step - loss: 0.3373 - accuracy: 0.8621\n",
      "Epoch 27/200\n",
      "250/250 [==============================] - 0s 1ms/step - loss: 0.3377 - accuracy: 0.8627\n",
      "Epoch 28/200\n",
      "250/250 [==============================] - 0s 1ms/step - loss: 0.3372 - accuracy: 0.8636\n",
      "Epoch 29/200\n",
      "250/250 [==============================] - 0s 1ms/step - loss: 0.3369 - accuracy: 0.8634\n",
      "Epoch 30/200\n",
      "250/250 [==============================] - 0s 1ms/step - loss: 0.3372 - accuracy: 0.8627\n",
      "Epoch 31/200\n",
      "250/250 [==============================] - 0s 1ms/step - loss: 0.3362 - accuracy: 0.8635\n",
      "Epoch 32/200\n",
      "250/250 [==============================] - 0s 1ms/step - loss: 0.3368 - accuracy: 0.8615\n",
      "Epoch 33/200\n",
      "250/250 [==============================] - 0s 1ms/step - loss: 0.3363 - accuracy: 0.8641\n",
      "Epoch 34/200\n",
      "250/250 [==============================] - 0s 1ms/step - loss: 0.3369 - accuracy: 0.8643\n",
      "Epoch 35/200\n",
      "250/250 [==============================] - 0s 1ms/step - loss: 0.3366 - accuracy: 0.8626\n",
      "Epoch 36/200\n",
      "250/250 [==============================] - 0s 2ms/step - loss: 0.3364 - accuracy: 0.8627\n",
      "Epoch 37/200\n",
      "250/250 [==============================] - 1s 2ms/step - loss: 0.3369 - accuracy: 0.8627\n",
      "Epoch 38/200\n",
      "250/250 [==============================] - 0s 2ms/step - loss: 0.3366 - accuracy: 0.8625\n",
      "Epoch 39/200\n",
      "250/250 [==============================] - 1s 2ms/step - loss: 0.3370 - accuracy: 0.8630\n",
      "Epoch 40/200\n",
      "250/250 [==============================] - 0s 2ms/step - loss: 0.3367 - accuracy: 0.8624\n",
      "Epoch 41/200\n",
      "250/250 [==============================] - 0s 1ms/step - loss: 0.3366 - accuracy: 0.8624\n",
      "Epoch 42/200\n",
      "250/250 [==============================] - 0s 1ms/step - loss: 0.3366 - accuracy: 0.8644\n",
      "Epoch 43/200\n",
      "250/250 [==============================] - 0s 2ms/step - loss: 0.3363 - accuracy: 0.8636\n",
      "Epoch 44/200\n",
      "250/250 [==============================] - 0s 1ms/step - loss: 0.3369 - accuracy: 0.8626\n",
      "Epoch 45/200\n",
      "250/250 [==============================] - 0s 1ms/step - loss: 0.3364 - accuracy: 0.8635\n",
      "Epoch 46/200\n",
      "250/250 [==============================] - 0s 2ms/step - loss: 0.3362 - accuracy: 0.8634\n",
      "Epoch 47/200\n",
      "250/250 [==============================] - 0s 1ms/step - loss: 0.3365 - accuracy: 0.8637\n",
      "Epoch 48/200\n",
      "250/250 [==============================] - 0s 1ms/step - loss: 0.3362 - accuracy: 0.8627\n",
      "Epoch 49/200\n",
      "250/250 [==============================] - 0s 2ms/step - loss: 0.3363 - accuracy: 0.8641\n",
      "Epoch 50/200\n",
      "250/250 [==============================] - 0s 1ms/step - loss: 0.3359 - accuracy: 0.8634\n",
      "Epoch 51/200\n",
      "250/250 [==============================] - 0s 2ms/step - loss: 0.3358 - accuracy: 0.8637\n",
      "Epoch 52/200\n",
      "250/250 [==============================] - 0s 1ms/step - loss: 0.3363 - accuracy: 0.8648\n",
      "Epoch 53/200\n",
      "250/250 [==============================] - 0s 1ms/step - loss: 0.3364 - accuracy: 0.8633\n",
      "Epoch 54/200\n",
      "250/250 [==============================] - 0s 937us/step - loss: 0.3353 - accuracy: 0.8658\n",
      "Epoch 55/200\n",
      "250/250 [==============================] - 0s 882us/step - loss: 0.3358 - accuracy: 0.8651\n",
      "Epoch 56/200\n",
      "250/250 [==============================] - 0s 891us/step - loss: 0.3359 - accuracy: 0.8622\n",
      "Epoch 57/200\n",
      "250/250 [==============================] - 0s 884us/step - loss: 0.3363 - accuracy: 0.8634\n",
      "Epoch 58/200\n",
      "250/250 [==============================] - 0s 944us/step - loss: 0.3362 - accuracy: 0.8645\n",
      "Epoch 59/200\n",
      "250/250 [==============================] - 0s 999us/step - loss: 0.3356 - accuracy: 0.8644\n",
      "Epoch 60/200\n",
      "250/250 [==============================] - 0s 1ms/step - loss: 0.3362 - accuracy: 0.8629\n",
      "Epoch 61/200\n",
      "250/250 [==============================] - 0s 1ms/step - loss: 0.3359 - accuracy: 0.8651\n",
      "Epoch 62/200\n",
      "250/250 [==============================] - 0s 1ms/step - loss: 0.3357 - accuracy: 0.8631\n",
      "Epoch 63/200\n",
      "250/250 [==============================] - 0s 1ms/step - loss: 0.3357 - accuracy: 0.8635\n",
      "Epoch 64/200\n",
      "250/250 [==============================] - 0s 925us/step - loss: 0.3355 - accuracy: 0.8661\n",
      "Epoch 65/200\n",
      "250/250 [==============================] - 0s 888us/step - loss: 0.3356 - accuracy: 0.8636\n",
      "Epoch 66/200\n",
      "250/250 [==============================] - 0s 929us/step - loss: 0.3359 - accuracy: 0.8640\n",
      "Epoch 67/200\n",
      "250/250 [==============================] - 0s 918us/step - loss: 0.3355 - accuracy: 0.8627\n",
      "Epoch 68/200\n",
      "250/250 [==============================] - 0s 935us/step - loss: 0.3356 - accuracy: 0.8619\n",
      "Epoch 69/200\n",
      "250/250 [==============================] - 0s 935us/step - loss: 0.3358 - accuracy: 0.8640\n",
      "Epoch 70/200\n",
      "250/250 [==============================] - 0s 891us/step - loss: 0.3357 - accuracy: 0.8646\n",
      "Epoch 71/200\n",
      "250/250 [==============================] - 0s 1ms/step - loss: 0.3355 - accuracy: 0.8622\n",
      "Epoch 72/200\n",
      "250/250 [==============================] - 0s 908us/step - loss: 0.3354 - accuracy: 0.8639\n",
      "Epoch 73/200\n",
      "250/250 [==============================] - 0s 883us/step - loss: 0.3355 - accuracy: 0.8631\n",
      "Epoch 74/200\n",
      "250/250 [==============================] - 0s 903us/step - loss: 0.3354 - accuracy: 0.8629\n",
      "Epoch 75/200\n",
      "250/250 [==============================] - 0s 932us/step - loss: 0.3356 - accuracy: 0.8629\n",
      "Epoch 76/200\n",
      "250/250 [==============================] - 0s 941us/step - loss: 0.3350 - accuracy: 0.8645\n",
      "Epoch 77/200\n",
      "250/250 [==============================] - 0s 896us/step - loss: 0.3351 - accuracy: 0.8640\n",
      "Epoch 78/200\n",
      "250/250 [==============================] - 0s 951us/step - loss: 0.3356 - accuracy: 0.8654\n",
      "Epoch 79/200\n",
      "250/250 [==============================] - 0s 897us/step - loss: 0.3354 - accuracy: 0.8635\n",
      "Epoch 80/200\n",
      "250/250 [==============================] - 0s 1ms/step - loss: 0.3357 - accuracy: 0.8636\n",
      "Epoch 81/200\n",
      "250/250 [==============================] - 0s 918us/step - loss: 0.3354 - accuracy: 0.8630\n",
      "Epoch 82/200\n",
      "250/250 [==============================] - 0s 893us/step - loss: 0.3352 - accuracy: 0.8643\n",
      "Epoch 83/200\n",
      "250/250 [==============================] - 0s 880us/step - loss: 0.3357 - accuracy: 0.8641\n",
      "Epoch 84/200\n",
      "250/250 [==============================] - 0s 906us/step - loss: 0.3355 - accuracy: 0.8633\n",
      "Epoch 85/200\n",
      "250/250 [==============================] - 0s 878us/step - loss: 0.3357 - accuracy: 0.8639\n",
      "Epoch 86/200\n",
      "250/250 [==============================] - 0s 915us/step - loss: 0.3346 - accuracy: 0.8634\n",
      "Epoch 87/200\n",
      "250/250 [==============================] - 0s 912us/step - loss: 0.3355 - accuracy: 0.8631\n",
      "Epoch 88/200\n",
      "250/250 [==============================] - 0s 912us/step - loss: 0.3353 - accuracy: 0.8652\n",
      "Epoch 89/200\n",
      "250/250 [==============================] - 0s 1ms/step - loss: 0.3355 - accuracy: 0.8645\n",
      "Epoch 90/200\n",
      "250/250 [==============================] - 0s 889us/step - loss: 0.3354 - accuracy: 0.8633\n",
      "Epoch 91/200\n",
      "250/250 [==============================] - 0s 893us/step - loss: 0.3352 - accuracy: 0.8637\n",
      "Epoch 92/200\n",
      "250/250 [==============================] - 0s 914us/step - loss: 0.3350 - accuracy: 0.8629\n",
      "Epoch 93/200\n",
      "250/250 [==============================] - 0s 913us/step - loss: 0.3352 - accuracy: 0.8651\n",
      "Epoch 94/200\n",
      "250/250 [==============================] - 0s 893us/step - loss: 0.3352 - accuracy: 0.8649\n",
      "Epoch 95/200\n",
      "250/250 [==============================] - 0s 893us/step - loss: 0.3354 - accuracy: 0.8631\n",
      "Epoch 96/200\n",
      "250/250 [==============================] - 0s 910us/step - loss: 0.3349 - accuracy: 0.8644\n",
      "Epoch 97/200\n",
      "250/250 [==============================] - 0s 1ms/step - loss: 0.3350 - accuracy: 0.8641\n",
      "Epoch 98/200\n",
      "250/250 [==============================] - 0s 1000us/step - loss: 0.3355 - accuracy: 0.8637\n",
      "Epoch 99/200\n",
      "250/250 [==============================] - 0s 866us/step - loss: 0.3354 - accuracy: 0.8619\n",
      "Epoch 100/200\n",
      "250/250 [==============================] - 0s 914us/step - loss: 0.3349 - accuracy: 0.8645\n",
      "Epoch 101/200\n",
      "250/250 [==============================] - 0s 892us/step - loss: 0.3358 - accuracy: 0.8627\n",
      "Epoch 102/200\n",
      "250/250 [==============================] - 0s 884us/step - loss: 0.3356 - accuracy: 0.8637\n",
      "Epoch 103/200\n",
      "250/250 [==============================] - 0s 890us/step - loss: 0.3349 - accuracy: 0.8644\n",
      "Epoch 104/200\n",
      "250/250 [==============================] - 0s 927us/step - loss: 0.3351 - accuracy: 0.8652\n",
      "Epoch 105/200\n",
      "250/250 [==============================] - 0s 877us/step - loss: 0.3350 - accuracy: 0.8643\n",
      "Epoch 106/200\n",
      "250/250 [==============================] - 0s 1ms/step - loss: 0.3352 - accuracy: 0.8635\n",
      "Epoch 107/200\n",
      "250/250 [==============================] - 0s 914us/step - loss: 0.3356 - accuracy: 0.8639\n",
      "Epoch 108/200\n",
      "250/250 [==============================] - 0s 924us/step - loss: 0.3346 - accuracy: 0.8644\n",
      "Epoch 109/200\n",
      "250/250 [==============================] - 0s 886us/step - loss: 0.3351 - accuracy: 0.8639\n",
      "Epoch 110/200\n",
      "250/250 [==============================] - 0s 921us/step - loss: 0.3345 - accuracy: 0.8650\n",
      "Epoch 111/200\n",
      "250/250 [==============================] - 0s 900us/step - loss: 0.3348 - accuracy: 0.8641\n",
      "Epoch 112/200\n",
      "250/250 [==============================] - 0s 927us/step - loss: 0.3348 - accuracy: 0.8645\n",
      "Epoch 113/200\n",
      "250/250 [==============================] - 0s 917us/step - loss: 0.3350 - accuracy: 0.8626\n",
      "Epoch 114/200\n",
      "250/250 [==============================] - 0s 903us/step - loss: 0.3348 - accuracy: 0.8649\n",
      "Epoch 115/200\n",
      "250/250 [==============================] - 0s 1ms/step - loss: 0.3344 - accuracy: 0.8643\n",
      "Epoch 116/200\n",
      "250/250 [==============================] - 0s 871us/step - loss: 0.3343 - accuracy: 0.8650\n",
      "Epoch 117/200\n",
      "250/250 [==============================] - 0s 1ms/step - loss: 0.3346 - accuracy: 0.8646\n",
      "Epoch 118/200\n",
      "250/250 [==============================] - 0s 1ms/step - loss: 0.3343 - accuracy: 0.8637\n",
      "Epoch 119/200\n",
      "250/250 [==============================] - 0s 1ms/step - loss: 0.3345 - accuracy: 0.8652\n",
      "Epoch 120/200\n",
      "250/250 [==============================] - 0s 1ms/step - loss: 0.3348 - accuracy: 0.8651\n",
      "Epoch 121/200\n",
      "250/250 [==============================] - 0s 887us/step - loss: 0.3345 - accuracy: 0.8641\n",
      "Epoch 122/200\n",
      "250/250 [==============================] - 0s 1ms/step - loss: 0.3344 - accuracy: 0.8646\n",
      "Epoch 123/200\n",
      "250/250 [==============================] - 0s 1ms/step - loss: 0.3346 - accuracy: 0.8643\n",
      "Epoch 124/200\n",
      "250/250 [==============================] - 0s 942us/step - loss: 0.3346 - accuracy: 0.8648\n",
      "Epoch 125/200\n",
      "250/250 [==============================] - 0s 875us/step - loss: 0.3345 - accuracy: 0.8640\n",
      "Epoch 126/200\n",
      "250/250 [==============================] - 0s 903us/step - loss: 0.3339 - accuracy: 0.8630\n",
      "Epoch 127/200\n",
      "250/250 [==============================] - 0s 928us/step - loss: 0.3342 - accuracy: 0.8652\n",
      "Epoch 128/200\n",
      "250/250 [==============================] - 0s 970us/step - loss: 0.3341 - accuracy: 0.8658\n",
      "Epoch 129/200\n",
      "250/250 [==============================] - 0s 929us/step - loss: 0.3341 - accuracy: 0.8645\n",
      "Epoch 130/200\n",
      "250/250 [==============================] - 0s 1ms/step - loss: 0.3345 - accuracy: 0.8631\n",
      "Epoch 131/200\n",
      "250/250 [==============================] - 0s 1ms/step - loss: 0.3341 - accuracy: 0.8635\n",
      "Epoch 132/200\n",
      "250/250 [==============================] - 0s 1ms/step - loss: 0.3337 - accuracy: 0.8652\n",
      "Epoch 133/200\n",
      "250/250 [==============================] - 0s 888us/step - loss: 0.3342 - accuracy: 0.8635\n",
      "Epoch 134/200\n",
      "250/250 [==============================] - 0s 905us/step - loss: 0.3343 - accuracy: 0.8643\n",
      "Epoch 135/200\n",
      "250/250 [==============================] - 0s 869us/step - loss: 0.3339 - accuracy: 0.8660\n",
      "Epoch 136/200\n",
      "250/250 [==============================] - 0s 935us/step - loss: 0.3345 - accuracy: 0.8666\n",
      "Epoch 137/200\n",
      "250/250 [==============================] - 0s 893us/step - loss: 0.3342 - accuracy: 0.8639\n",
      "Epoch 138/200\n",
      "250/250 [==============================] - 0s 1ms/step - loss: 0.3343 - accuracy: 0.8641\n",
      "Epoch 139/200\n",
      "250/250 [==============================] - 0s 884us/step - loss: 0.3342 - accuracy: 0.8648\n",
      "Epoch 140/200\n",
      "250/250 [==============================] - 0s 911us/step - loss: 0.3341 - accuracy: 0.8646\n",
      "Epoch 141/200\n",
      "250/250 [==============================] - 0s 888us/step - loss: 0.3339 - accuracy: 0.8651\n",
      "Epoch 142/200\n",
      "250/250 [==============================] - 0s 933us/step - loss: 0.3338 - accuracy: 0.8646\n",
      "Epoch 143/200\n",
      "250/250 [==============================] - 0s 1ms/step - loss: 0.3344 - accuracy: 0.8645\n",
      "Epoch 144/200\n",
      "250/250 [==============================] - 0s 921us/step - loss: 0.3343 - accuracy: 0.8646\n",
      "Epoch 145/200\n",
      "250/250 [==============================] - 0s 917us/step - loss: 0.3339 - accuracy: 0.8650\n",
      "Epoch 146/200\n",
      "250/250 [==============================] - 0s 1ms/step - loss: 0.3337 - accuracy: 0.8643\n",
      "Epoch 147/200\n",
      "250/250 [==============================] - 0s 883us/step - loss: 0.3339 - accuracy: 0.8655\n",
      "Epoch 148/200\n",
      "250/250 [==============================] - 0s 874us/step - loss: 0.3340 - accuracy: 0.8650\n",
      "Epoch 149/200\n",
      "250/250 [==============================] - 0s 882us/step - loss: 0.3339 - accuracy: 0.8639\n",
      "Epoch 150/200\n",
      "250/250 [==============================] - 0s 956us/step - loss: 0.3343 - accuracy: 0.8654\n",
      "Epoch 151/200\n",
      "250/250 [==============================] - 0s 884us/step - loss: 0.3342 - accuracy: 0.8639\n",
      "Epoch 152/200\n",
      "250/250 [==============================] - 0s 897us/step - loss: 0.3340 - accuracy: 0.8639\n",
      "Epoch 153/200\n",
      "250/250 [==============================] - 0s 889us/step - loss: 0.3337 - accuracy: 0.8652\n",
      "Epoch 154/200\n",
      "250/250 [==============================] - 0s 1ms/step - loss: 0.3335 - accuracy: 0.8625\n",
      "Epoch 155/200\n",
      "250/250 [==============================] - 0s 879us/step - loss: 0.3338 - accuracy: 0.8651\n",
      "Epoch 156/200\n",
      "250/250 [==============================] - 0s 870us/step - loss: 0.3326 - accuracy: 0.8644\n",
      "Epoch 157/200\n",
      "250/250 [==============================] - 0s 894us/step - loss: 0.3331 - accuracy: 0.8662\n",
      "Epoch 158/200\n",
      "250/250 [==============================] - 0s 891us/step - loss: 0.3335 - accuracy: 0.8661\n",
      "Epoch 159/200\n",
      "250/250 [==============================] - 0s 929us/step - loss: 0.3336 - accuracy: 0.8649\n",
      "Epoch 160/200\n",
      "250/250 [==============================] - 0s 910us/step - loss: 0.3335 - accuracy: 0.8650\n",
      "Epoch 161/200\n",
      "250/250 [==============================] - 0s 894us/step - loss: 0.3340 - accuracy: 0.8655\n",
      "Epoch 162/200\n",
      "250/250 [==============================] - 0s 1ms/step - loss: 0.3331 - accuracy: 0.8646\n",
      "Epoch 163/200\n",
      "250/250 [==============================] - 0s 969us/step - loss: 0.3338 - accuracy: 0.8639\n",
      "Epoch 164/200\n",
      "250/250 [==============================] - 0s 1ms/step - loss: 0.3335 - accuracy: 0.8630\n",
      "Epoch 165/200\n",
      "250/250 [==============================] - 0s 903us/step - loss: 0.3333 - accuracy: 0.8660\n",
      "Epoch 166/200\n",
      "250/250 [==============================] - 0s 928us/step - loss: 0.3342 - accuracy: 0.8645\n",
      "Epoch 167/200\n",
      "250/250 [==============================] - 0s 872us/step - loss: 0.3337 - accuracy: 0.8651\n",
      "Epoch 168/200\n",
      "250/250 [==============================] - 0s 876us/step - loss: 0.3336 - accuracy: 0.8640\n",
      "Epoch 169/200\n",
      "250/250 [==============================] - 0s 863us/step - loss: 0.3333 - accuracy: 0.8646\n",
      "Epoch 170/200\n",
      "250/250 [==============================] - 0s 1ms/step - loss: 0.3335 - accuracy: 0.8658\n",
      "Epoch 171/200\n",
      "250/250 [==============================] - 0s 894us/step - loss: 0.3335 - accuracy: 0.8639\n",
      "Epoch 172/200\n",
      "250/250 [==============================] - 0s 908us/step - loss: 0.3336 - accuracy: 0.8646\n",
      "Epoch 173/200\n",
      "250/250 [==============================] - 0s 879us/step - loss: 0.3333 - accuracy: 0.8670\n",
      "Epoch 174/200\n",
      "250/250 [==============================] - 0s 882us/step - loss: 0.3333 - accuracy: 0.8648\n",
      "Epoch 175/200\n",
      "250/250 [==============================] - 0s 907us/step - loss: 0.3335 - accuracy: 0.8656\n",
      "Epoch 176/200\n",
      "250/250 [==============================] - 0s 922us/step - loss: 0.3332 - accuracy: 0.8652\n",
      "Epoch 177/200\n",
      "250/250 [==============================] - 0s 1ms/step - loss: 0.3333 - accuracy: 0.8649\n",
      "Epoch 178/200\n",
      "250/250 [==============================] - 0s 902us/step - loss: 0.3333 - accuracy: 0.8651\n",
      "Epoch 179/200\n",
      "250/250 [==============================] - 0s 932us/step - loss: 0.3332 - accuracy: 0.8655\n",
      "Epoch 180/200\n",
      "250/250 [==============================] - 0s 904us/step - loss: 0.3333 - accuracy: 0.8650\n",
      "Epoch 181/200\n",
      "250/250 [==============================] - 0s 894us/step - loss: 0.3332 - accuracy: 0.8651\n",
      "Epoch 182/200\n",
      "250/250 [==============================] - 0s 1ms/step - loss: 0.3333 - accuracy: 0.8649\n",
      "Epoch 183/200\n",
      "250/250 [==============================] - 0s 901us/step - loss: 0.3334 - accuracy: 0.8645\n",
      "Epoch 184/200\n",
      "250/250 [==============================] - 0s 1ms/step - loss: 0.3336 - accuracy: 0.8656\n",
      "Epoch 185/200\n",
      "250/250 [==============================] - 0s 860us/step - loss: 0.3336 - accuracy: 0.8641\n",
      "Epoch 186/200\n",
      "250/250 [==============================] - 0s 871us/step - loss: 0.3333 - accuracy: 0.8645\n",
      "Epoch 187/200\n",
      "250/250 [==============================] - 0s 874us/step - loss: 0.3330 - accuracy: 0.8655\n",
      "Epoch 188/200\n",
      "250/250 [==============================] - 0s 1ms/step - loss: 0.3333 - accuracy: 0.8635\n",
      "Epoch 189/200\n",
      "250/250 [==============================] - 0s 1ms/step - loss: 0.3332 - accuracy: 0.8651\n",
      "Epoch 190/200\n",
      "250/250 [==============================] - 0s 1ms/step - loss: 0.3334 - accuracy: 0.8644\n",
      "Epoch 191/200\n",
      "250/250 [==============================] - 0s 1ms/step - loss: 0.3334 - accuracy: 0.8636\n",
      "Epoch 192/200\n",
      "250/250 [==============================] - 0s 931us/step - loss: 0.3326 - accuracy: 0.8654\n",
      "Epoch 193/200\n",
      "250/250 [==============================] - 0s 928us/step - loss: 0.3339 - accuracy: 0.8652\n",
      "Epoch 194/200\n",
      "250/250 [==============================] - 0s 927us/step - loss: 0.3335 - accuracy: 0.8637\n",
      "Epoch 195/200\n",
      "250/250 [==============================] - 0s 953us/step - loss: 0.3334 - accuracy: 0.8645\n",
      "Epoch 196/200\n",
      "250/250 [==============================] - 0s 893us/step - loss: 0.3332 - accuracy: 0.8651\n",
      "Epoch 197/200\n",
      "250/250 [==============================] - 0s 1ms/step - loss: 0.3333 - accuracy: 0.8643\n",
      "Epoch 198/200\n",
      "250/250 [==============================] - 0s 1ms/step - loss: 0.3326 - accuracy: 0.8652\n",
      "Epoch 199/200\n",
      "250/250 [==============================] - 0s 894us/step - loss: 0.3332 - accuracy: 0.8649\n",
      "Epoch 200/200\n",
      "250/250 [==============================] - 0s 874us/step - loss: 0.3330 - accuracy: 0.8655\n"
     ]
    },
    {
     "data": {
      "text/plain": [
       "<keras.src.callbacks.History at 0x247026ddc90>"
      ]
     },
     "execution_count": 50,
     "metadata": {},
     "output_type": "execute_result"
    }
   ],
   "source": [
    "# Training the ANN\n",
    "ann.fit(X_train, y_train, batch_size=32, epochs=100) # batch_size and epochs are hyperparameters"
   ]
  },
  {
   "cell_type": "markdown",
   "metadata": {},
   "source": [
    "# Predictions and Model Evaluation"
   ]
  },
  {
   "cell_type": "code",
   "execution_count": 54,
   "metadata": {},
   "outputs": [
    {
     "name": "stdout",
     "output_type": "stream",
     "text": [
      "1/1 [==============================] - 0s 26ms/step\n",
      "[[0.01781454]]\n",
      "1/1 [==============================] - 0s 32ms/step\n",
      "[[False]]\n"
     ]
    }
   ],
   "source": [
    "print(ann.predict(sc.transform([[1.0, 0.0, 0.0, 600, 1, 40, 3, 60000, 2, 1, 1, 50000]]))) # input must be 2d array\n",
    "# prints output in probability\n",
    "print(ann.predict(sc.transform([[1.0, 0.0, 0.0, 600, 1, 40, 3, 60000, 2, 1, 1, 50000]])) > 0.5) # if predicted prob > 0.5 => 1, < 0.5 => 0"
   ]
  },
  {
   "cell_type": "code",
   "execution_count": 56,
   "metadata": {},
   "outputs": [
    {
     "name": "stdout",
     "output_type": "stream",
     "text": [
      "63/63 [==============================] - 0s 850us/step\n",
      "[[0 0]\n",
      " [0 1]\n",
      " [0 0]\n",
      " ...\n",
      " [0 0]\n",
      " [0 0]\n",
      " [0 0]]\n"
     ]
    }
   ],
   "source": [
    "# Accuracy and Confusion matrix \n",
    "y_pred = ann.predict(X_test)\n",
    "y_pred = (y_pred > 0.5) # returns true if likely to leave, and false if likely to stay\n",
    "print(np.concatenate((y_pred.reshape(len(y_pred), 1), y_test.reshape(len(y_test), 1)), 1))"
   ]
  },
  {
   "cell_type": "code",
   "execution_count": 61,
   "metadata": {},
   "outputs": [
    {
     "name": "stdout",
     "output_type": "stream",
     "text": [
      "[[1515   80]\n",
      " [ 195  210]]\n",
      "accuracy score = 86.25 %\n"
     ]
    }
   ],
   "source": [
    "cm = confusion_matrix(y_test, y_pred)\n",
    "print(cm)\n",
    "ac = accuracy_score(y_test, y_pred)\n",
    "print('accuracy score =', ac*100, '%')"
   ]
  }
 ],
 "metadata": {
  "kernelspec": {
   "display_name": "mlenv",
   "language": "python",
   "name": "python3"
  },
  "language_info": {
   "codemirror_mode": {
    "name": "ipython",
    "version": 3
   },
   "file_extension": ".py",
   "mimetype": "text/x-python",
   "name": "python",
   "nbconvert_exporter": "python",
   "pygments_lexer": "ipython3",
   "version": "3.11.4"
  }
 },
 "nbformat": 4,
 "nbformat_minor": 2
}
