{
 "cells": [
  {
   "cell_type": "code",
   "execution_count": 2,
   "metadata": {},
   "outputs": [],
   "source": [
    "import pandas as pd \n",
    "import numpy as np \n",
    "import tensorflow as tf\n",
    "from keras.preprocessing.image import ImageDataGenerator"
   ]
  },
  {
   "cell_type": "code",
   "execution_count": 3,
   "metadata": {},
   "outputs": [
    {
     "data": {
      "text/plain": [
       "'2.13.0'"
      ]
     },
     "execution_count": 3,
     "metadata": {},
     "output_type": "execute_result"
    }
   ],
   "source": [
    "tf.__version__"
   ]
  },
  {
   "cell_type": "code",
   "execution_count": 4,
   "metadata": {},
   "outputs": [
    {
     "name": "stdout",
     "output_type": "stream",
     "text": [
      "Found 8000 images belonging to 2 classes.\n"
     ]
    }
   ],
   "source": [
    "# preprocessing images \n",
    "# apply transformations on training set to avoid overfitting the model \n",
    "\n",
    "# Image Augmentation \n",
    "train_datagen = ImageDataGenerator(\n",
    "    rescale=1./255, # feature scaling to each pixel, essential for DL with ANNs\n",
    "    shear_range=0.2,\n",
    "    zoom_range=0.2,\n",
    "    horizontal_flip=True\n",
    ")\n",
    "\n",
    "training_set = train_datagen.flow_from_directory(\n",
    "    'dataset/dataset/training_set/',\n",
    "    target_size=(64, 64),\n",
    "    batch_size=32,\n",
    "    class_mode='binary'\n",
    ")"
   ]
  },
  {
   "cell_type": "code",
   "execution_count": 5,
   "metadata": {},
   "outputs": [
    {
     "name": "stdout",
     "output_type": "stream",
     "text": [
      "Found 2000 images belonging to 2 classes.\n"
     ]
    }
   ],
   "source": [
    "test_datagen = ImageDataGenerator(\n",
    "    rescale=1./255 # have to rescale test set images also, no other augmentations though\n",
    ")\n",
    "test_set = test_datagen.flow_from_directory(\n",
    "    'dataset/dataset/test_set/',\n",
    "    target_size=(64, 64),\n",
    "    batch_size=32, \n",
    "    class_mode='binary'\n",
    ")"
   ]
  },
  {
   "cell_type": "code",
   "execution_count": 6,
   "metadata": {},
   "outputs": [],
   "source": [
    "cnn = tf.keras.models.Sequential()"
   ]
  },
  {
   "cell_type": "code",
   "execution_count": 7,
   "metadata": {},
   "outputs": [],
   "source": [
    "cnn.add(tf.keras.layers.Conv2D(filters=32, kernel_size=3, activation='relu', input_shape=(64, 64, 3))) # kernel size = n => nxn feature detector 2nd order tensor"
   ]
  },
  {
   "cell_type": "code",
   "execution_count": 8,
   "metadata": {},
   "outputs": [],
   "source": [
    "cnn.add(tf.keras.layers.MaxPooling2D(pool_size=2, strides=2))"
   ]
  },
  {
   "cell_type": "code",
   "execution_count": 9,
   "metadata": {},
   "outputs": [],
   "source": [
    "cnn.add(tf.keras.layers.Conv2D(filters=32, kernel_size=3, activation='relu')) # second convolutional layer"
   ]
  },
  {
   "cell_type": "code",
   "execution_count": 10,
   "metadata": {},
   "outputs": [],
   "source": [
    "cnn.add(tf.keras.layers.MaxPooling2D(pool_size=2, strides=2)) # pooling applied to second layer"
   ]
  },
  {
   "cell_type": "code",
   "execution_count": 11,
   "metadata": {},
   "outputs": [],
   "source": [
    "cnn.add(tf.keras.layers.Flatten())"
   ]
  },
  {
   "cell_type": "code",
   "execution_count": 12,
   "metadata": {},
   "outputs": [],
   "source": [
    "cnn.add(tf.keras.layers.Dense(units=128, activation='relu')) # connect a fully connected layer"
   ]
  },
  {
   "cell_type": "code",
   "execution_count": 14,
   "metadata": {},
   "outputs": [],
   "source": [
    "cnn.add(tf.keras.layers.Dense(units=1, activation='sigmoid')) # output layer"
   ]
  },
  {
   "cell_type": "code",
   "execution_count": 15,
   "metadata": {},
   "outputs": [],
   "source": [
    "cnn.compile(optimizer='adam', loss='binary_crossentropy', metrics=['accuracy']) # complie the network"
   ]
  },
  {
   "cell_type": "code",
   "execution_count": 17,
   "metadata": {},
   "outputs": [
    {
     "name": "stdout",
     "output_type": "stream",
     "text": [
      "Epoch 1/32\n",
      "250/250 [==============================] - 72s 283ms/step - loss: 0.6661 - accuracy: 0.5935 - val_loss: 0.7720 - val_accuracy: 0.5670\n",
      "Epoch 2/32\n",
      "250/250 [==============================] - 40s 162ms/step - loss: 0.6151 - accuracy: 0.6671 - val_loss: 0.5745 - val_accuracy: 0.7015\n",
      "Epoch 3/32\n",
      "250/250 [==============================] - 41s 163ms/step - loss: 0.5669 - accuracy: 0.7099 - val_loss: 0.5385 - val_accuracy: 0.7285\n",
      "Epoch 4/32\n",
      "250/250 [==============================] - 44s 178ms/step - loss: 0.5370 - accuracy: 0.7275 - val_loss: 0.5115 - val_accuracy: 0.7560\n",
      "Epoch 5/32\n",
      "250/250 [==============================] - 54s 215ms/step - loss: 0.5034 - accuracy: 0.7546 - val_loss: 0.5034 - val_accuracy: 0.7590\n",
      "Epoch 6/32\n",
      "250/250 [==============================] - 51s 205ms/step - loss: 0.4926 - accuracy: 0.7613 - val_loss: 0.4985 - val_accuracy: 0.7610\n",
      "Epoch 7/32\n",
      "250/250 [==============================] - 47s 187ms/step - loss: 0.4710 - accuracy: 0.7720 - val_loss: 0.4913 - val_accuracy: 0.7655\n",
      "Epoch 8/32\n",
      "250/250 [==============================] - 58s 232ms/step - loss: 0.4588 - accuracy: 0.7805 - val_loss: 0.5571 - val_accuracy: 0.7395\n",
      "Epoch 9/32\n",
      "250/250 [==============================] - 60s 241ms/step - loss: 0.4460 - accuracy: 0.7901 - val_loss: 0.5203 - val_accuracy: 0.7515\n",
      "Epoch 10/32\n",
      "250/250 [==============================] - 62s 249ms/step - loss: 0.4334 - accuracy: 0.7966 - val_loss: 0.4662 - val_accuracy: 0.7775\n",
      "Epoch 11/32\n",
      "250/250 [==============================] - 67s 270ms/step - loss: 0.4130 - accuracy: 0.8109 - val_loss: 0.4912 - val_accuracy: 0.7585\n",
      "Epoch 12/32\n",
      "250/250 [==============================] - 61s 245ms/step - loss: 0.4068 - accuracy: 0.8145 - val_loss: 0.4557 - val_accuracy: 0.7950\n",
      "Epoch 13/32\n",
      "250/250 [==============================] - 62s 246ms/step - loss: 0.3938 - accuracy: 0.8167 - val_loss: 0.4494 - val_accuracy: 0.7895\n",
      "Epoch 14/32\n",
      "250/250 [==============================] - 64s 255ms/step - loss: 0.3809 - accuracy: 0.8224 - val_loss: 0.4425 - val_accuracy: 0.8130\n",
      "Epoch 15/32\n",
      "250/250 [==============================] - 52s 209ms/step - loss: 0.3699 - accuracy: 0.8324 - val_loss: 0.4611 - val_accuracy: 0.7935\n",
      "Epoch 16/32\n",
      "250/250 [==============================] - 45s 182ms/step - loss: 0.3630 - accuracy: 0.8369 - val_loss: 0.4514 - val_accuracy: 0.7990\n",
      "Epoch 17/32\n",
      "250/250 [==============================] - 55s 222ms/step - loss: 0.3463 - accuracy: 0.8429 - val_loss: 0.4964 - val_accuracy: 0.7855\n",
      "Epoch 18/32\n",
      "250/250 [==============================] - 53s 213ms/step - loss: 0.3411 - accuracy: 0.8494 - val_loss: 0.4849 - val_accuracy: 0.7865\n",
      "Epoch 19/32\n",
      "250/250 [==============================] - 57s 226ms/step - loss: 0.3299 - accuracy: 0.8564 - val_loss: 0.4424 - val_accuracy: 0.8050\n",
      "Epoch 20/32\n",
      "250/250 [==============================] - 48s 192ms/step - loss: 0.3151 - accuracy: 0.8633 - val_loss: 0.4745 - val_accuracy: 0.7990\n",
      "Epoch 21/32\n",
      "250/250 [==============================] - 47s 186ms/step - loss: 0.3041 - accuracy: 0.8684 - val_loss: 0.4967 - val_accuracy: 0.7975\n",
      "Epoch 22/32\n",
      "250/250 [==============================] - 46s 185ms/step - loss: 0.3168 - accuracy: 0.8608 - val_loss: 0.4697 - val_accuracy: 0.8005\n",
      "Epoch 23/32\n",
      "250/250 [==============================] - 49s 195ms/step - loss: 0.2793 - accuracy: 0.8804 - val_loss: 0.4733 - val_accuracy: 0.8040\n",
      "Epoch 24/32\n",
      "250/250 [==============================] - 44s 177ms/step - loss: 0.2731 - accuracy: 0.8815 - val_loss: 0.5591 - val_accuracy: 0.7840\n",
      "Epoch 25/32\n",
      "250/250 [==============================] - 45s 181ms/step - loss: 0.2698 - accuracy: 0.8860 - val_loss: 0.5180 - val_accuracy: 0.7955\n",
      "Epoch 26/32\n",
      "250/250 [==============================] - 47s 188ms/step - loss: 0.2458 - accuracy: 0.9007 - val_loss: 0.5366 - val_accuracy: 0.7955\n",
      "Epoch 27/32\n",
      "250/250 [==============================] - 51s 203ms/step - loss: 0.2535 - accuracy: 0.8928 - val_loss: 0.5281 - val_accuracy: 0.7955\n",
      "Epoch 28/32\n",
      "250/250 [==============================] - 44s 177ms/step - loss: 0.2328 - accuracy: 0.9051 - val_loss: 0.5278 - val_accuracy: 0.8015\n",
      "Epoch 29/32\n",
      "250/250 [==============================] - 46s 183ms/step - loss: 0.2233 - accuracy: 0.9075 - val_loss: 0.5584 - val_accuracy: 0.8075\n",
      "Epoch 30/32\n",
      "250/250 [==============================] - 52s 207ms/step - loss: 0.2169 - accuracy: 0.9085 - val_loss: 0.5230 - val_accuracy: 0.8090\n",
      "Epoch 31/32\n",
      "250/250 [==============================] - 46s 183ms/step - loss: 0.2080 - accuracy: 0.9178 - val_loss: 0.5760 - val_accuracy: 0.7935\n",
      "Epoch 32/32\n",
      "250/250 [==============================] - 44s 178ms/step - loss: 0.1989 - accuracy: 0.9220 - val_loss: 0.5616 - val_accuracy: 0.8045\n"
     ]
    },
    {
     "data": {
      "text/plain": [
       "<keras.src.callbacks.History at 0x1ec8ad03dd0>"
      ]
     },
     "execution_count": 17,
     "metadata": {},
     "output_type": "execute_result"
    }
   ],
   "source": [
    "# Train the network on training set\n",
    "cnn.fit(x=training_set, validation_data=test_set, epochs=32)"
   ]
  },
  {
   "cell_type": "code",
   "execution_count": 18,
   "metadata": {},
   "outputs": [
    {
     "name": "stdout",
     "output_type": "stream",
     "text": [
      "1/1 [==============================] - 0s 86ms/step\n"
     ]
    }
   ],
   "source": [
    "from keras.preprocessing import image\n",
    "test_image = image.load_img('dataset/dataset/testpic.jpg', target_size=(64, 64)) # have to have same size as size of images model was trained on\n",
    "test_image = image.img_to_array(test_image) # test image to 2d array format to be used in .predict()\n",
    "# model was trained on batch size of 32, need to account for this when predicting one image \n",
    "test_image = np.expand_dims(test_image, axis=0) # dimension adding to batch is first dimension <=> axis = 0\n",
    "result = cnn.predict(test_image)"
   ]
  },
  {
   "cell_type": "code",
   "execution_count": 19,
   "metadata": {},
   "outputs": [
    {
     "name": "stdout",
     "output_type": "stream",
     "text": [
      "{'cats': 0, 'dogs': 1}\n"
     ]
    }
   ],
   "source": [
    "print(training_set.class_indices)"
   ]
  },
  {
   "cell_type": "code",
   "execution_count": 20,
   "metadata": {},
   "outputs": [],
   "source": [
    "if result[0][0] == 1:\n",
    "    prediction = 'Dog'\n",
    "else:\n",
    "    prediction = 'Cat'"
   ]
  },
  {
   "cell_type": "code",
   "execution_count": 21,
   "metadata": {},
   "outputs": [
    {
     "name": "stdout",
     "output_type": "stream",
     "text": [
      "Dog\n"
     ]
    }
   ],
   "source": [
    "print(prediction)"
   ]
  }
 ],
 "metadata": {
  "kernelspec": {
   "display_name": "mlenv",
   "language": "python",
   "name": "python3"
  },
  "language_info": {
   "codemirror_mode": {
    "name": "ipython",
    "version": 3
   },
   "file_extension": ".py",
   "mimetype": "text/x-python",
   "name": "python",
   "nbconvert_exporter": "python",
   "pygments_lexer": "ipython3",
   "version": "3.11.4"
  }
 },
 "nbformat": 4,
 "nbformat_minor": 2
}
